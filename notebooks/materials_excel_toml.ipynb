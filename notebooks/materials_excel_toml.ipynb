{
 "cells": [
  {
   "cell_type": "markdown",
   "id": "b7c8e973-7d9e-4408-b143-6e97610a005d",
   "metadata": {},
   "source": [
    "# Metallic Materials: excel to toml\n",
    "\n",
    "Standard workflow for materials: \n",
    "1) edit in excel file\n",
    "2) run this script in order to update the toml file\n",
    "\n",
    "Why did I choose toml as file format?\n",
    "- it allows saving structured data, similar to json\n",
    "- it also allows comments (this feature is currently not used)"
   ]
  },
  {
   "cell_type": "code",
   "execution_count": 41,
   "id": "fa4d27bd-1b9a-46d4-bcf9-06b371fe16a1",
   "metadata": {},
   "outputs": [],
   "source": [
    "import pandas as pd"
   ]
  },
  {
   "cell_type": "code",
   "execution_count": 42,
   "id": "88294dcb-2312-4030-9a1d-cdac9d16b402",
   "metadata": {},
   "outputs": [],
   "source": [
    "df = pd.read_excel(\"../data/metal_database.xlsx\", skiprows=1)"
   ]
  },
  {
   "cell_type": "code",
   "execution_count": 43,
   "id": "90a4b427-37a5-4f86-bb82-76af3d0d46d9",
   "metadata": {},
   "outputs": [
    {
     "ename": "KeyError",
     "evalue": "'name'",
     "output_type": "error",
     "traceback": [
      "\u001b[1;31m---------------------------------------------------------------------------\u001b[0m",
      "\u001b[1;31mKeyError\u001b[0m                                  Traceback (most recent call last)",
      "Cell \u001b[1;32mIn[43], line 4\u001b[0m\n\u001b[0;32m      2\u001b[0m \u001b[38;5;28;01mwith\u001b[39;00m \u001b[38;5;28mopen\u001b[39m(fname, \u001b[38;5;124m\"\u001b[39m\u001b[38;5;124mw\u001b[39m\u001b[38;5;124m\"\u001b[39m, encoding\u001b[38;5;241m=\u001b[39m\u001b[38;5;124m\"\u001b[39m\u001b[38;5;124mutf-8\u001b[39m\u001b[38;5;124m\"\u001b[39m) \u001b[38;5;28;01mas\u001b[39;00m fp:\n\u001b[0;32m      3\u001b[0m     \u001b[38;5;28;01mfor\u001b[39;00m material \u001b[38;5;129;01min\u001b[39;00m df\u001b[38;5;241m.\u001b[39mto_dict(orient\u001b[38;5;241m=\u001b[39m\u001b[38;5;124m\"\u001b[39m\u001b[38;5;124mrecords\u001b[39m\u001b[38;5;124m\"\u001b[39m):\n\u001b[1;32m----> 4\u001b[0m         fp\u001b[38;5;241m.\u001b[39mwrite(\u001b[38;5;124mf\u001b[39m\u001b[38;5;124m\"\u001b[39m\u001b[38;5;124m[\u001b[39m\u001b[38;5;132;01m{\u001b[39;00m\u001b[43mmaterial\u001b[49m\u001b[43m[\u001b[49m\u001b[38;5;124;43m'\u001b[39;49m\u001b[38;5;124;43mname\u001b[39;49m\u001b[38;5;124;43m'\u001b[39;49m\u001b[43m]\u001b[49m\u001b[38;5;132;01m}\u001b[39;00m\u001b[38;5;124m]\u001b[39m\u001b[38;5;130;01m\\n\u001b[39;00m\u001b[38;5;124m\"\u001b[39m)\n\u001b[0;32m      5\u001b[0m         \u001b[38;5;28;01mfor\u001b[39;00m k, v \u001b[38;5;129;01min\u001b[39;00m material\u001b[38;5;241m.\u001b[39mitems():\n\u001b[0;32m      6\u001b[0m             \u001b[38;5;28;01mif\u001b[39;00m \u001b[38;5;28mhasattr\u001b[39m(v, \u001b[38;5;124m\"\u001b[39m\u001b[38;5;124mupper\u001b[39m\u001b[38;5;124m\"\u001b[39m): \u001b[38;5;66;03m# string\u001b[39;00m\n",
      "\u001b[1;31mKeyError\u001b[0m: 'name'"
     ]
    }
   ],
   "source": [
    "fname = \"../src/aerostructures/materials_static.toml\"\n",
    "with open(fname, \"w\", encoding=\"utf-8\") as fp:\n",
    "    for material in df.to_dict(orient=\"records\"):\n",
    "        fp.write(f\"[{material['name']}]\\n\")\n",
    "        for k, v in material.items():\n",
    "            if hasattr(v, \"upper\"): # string\n",
    "                fp.write(f'{k} = \"{v}\"\\n')\n",
    "            elif not pd.isna(v):\n",
    "                fp.write(f'{k} = {v}\\n')\n",
    "        fp.write(\"\\n\")"
   ]
  },
  {
   "cell_type": "code",
   "execution_count": null,
   "id": "71326e4d-3865-4e38-8971-dd8ddeb35d9a",
   "metadata": {},
   "outputs": [],
   "source": []
  }
 ],
 "metadata": {
  "kernelspec": {
   "display_name": "Python 3 (ipykernel)",
   "language": "python",
   "name": "python3"
  },
  "language_info": {
   "codemirror_mode": {
    "name": "ipython",
    "version": 3
   },
   "file_extension": ".py",
   "mimetype": "text/x-python",
   "name": "python",
   "nbconvert_exporter": "python",
   "pygments_lexer": "ipython3",
   "version": "3.11.6"
  }
 },
 "nbformat": 4,
 "nbformat_minor": 5
}
