{
 "cells": [
  {
   "cell_type": "code",
   "execution_count": 1,
   "id": "d593e24a-044f-4f2f-873b-57b2c08eee01",
   "metadata": {},
   "outputs": [],
   "source": [
    "%load_ext autoreload\n",
    "%autoreload 2"
   ]
  },
  {
   "cell_type": "code",
   "execution_count": 3,
   "id": "f2969c85-253e-4f54-8f38-6c35643015b4",
   "metadata": {},
   "outputs": [],
   "source": [
    "# don't touch unless you know what you are doing\n",
    "import sys\n",
    "sys.path.append('c:/Users/oliver/projects/aerostructures/src/aerostructures/')\n",
    "import numpy as np\n",
    "import matplotlib.pyplot as plt\n",
    "import pandas as pd\n",
    "import boltgroup2d as bg"
   ]
  },
  {
   "cell_type": "markdown",
   "id": "79e8b15e",
   "metadata": {},
   "source": [
    "# BoltGroup2D"
   ]
  },
  {
   "cell_type": "raw",
   "id": "d341a8bb",
   "metadata": {},
   "source": [
    "Project: lalala\n",
    "Detail: xxx\n",
    "Drawing Number: xxx\n",
    "Load Loop: xxx"
   ]
  },
  {
   "cell_type": "markdown",
   "id": "80a83ce7",
   "metadata": {},
   "source": [
    "## User Input"
   ]
  },
  {
   "cell_type": "markdown",
   "id": "69b1a933",
   "metadata": {},
   "source": [
    "**Define Bolt group geometry**\n",
    "\n",
    "Per bolt: \n",
    "\n",
    "+    Bolt id -> String (must be unique!)\n",
    "+    x coordinate, \n",
    "+    y coordinate, \n",
    "+    allowable load\n",
    "+    bolt type/description, \n",
    "\n",
    "Define load application point U\n",
    "\n",
    "+ tuple (x: float, y: float)"
   ]
  },
  {
   "cell_type": "code",
   "execution_count": 4,
   "id": "650e2f2a",
   "metadata": {
    "collapsed": false,
    "jupyter": {
     "outputs_hidden": false
    }
   },
   "outputs": [],
   "source": [
    "geo_descr = \"<unknown aircraft>, Wing/Fuselage Joint, Dwg. 57-123456 issue 1\"\n",
    "\n",
    "#       boltid,    x,     y, Pallow,                      description\n",
    "bolts = [('B1',  0.0,   0.0, 10000., 'EN6114-5, allowables from xxxx'),\n",
    "         ('B2', 25.0,   0.0, 10000., 'EN6114-5'),\n",
    "         ('B3', 50.0,   0.0, 20000., 'EN6114-5'),\n",
    "         ('B4',  0.0, -40.0, 10000., 'EN6114-5'),\n",
    "         ('B5', 25.0,  40.0, 10000., 'EN6114-5'),\n",
    "         ('B6', 50.0,  40.0, 10000., 'EN6114-5')]\n",
    "\n",
    "#       xu, yu\n",
    "lap = (55., 2.)"
   ]
  },
  {
   "cell_type": "markdown",
   "id": "c16786bc",
   "metadata": {},
   "source": [
    "NOTE: insert drawings, sketsches"
   ]
  },
  {
   "cell_type": "markdown",
   "id": "c540ede8",
   "metadata": {},
   "source": [
    "**Define analysis name and loads**\n",
    "\n",
    "for each load case:\n",
    "\n",
    "+ lcid: int -> must be unique!\n",
    "+ Fx: float\n",
    "+ Fy: float\n",
    "+ Mz: float\n",
    "+ description: str\n",
    "\n",
    "as an alternative, load a file with comma separated values. fields must be entered in the order\n",
    "defined. \n",
    "\n",
    "1, 10000., 0., 0., Case 1\n",
    "\n",
    "2, 0., 10000., 0., Case 2\n",
    "\n",
    "...\n",
    "\n",
    "loads = np.loadtxt('boltgroup_loads.txt', delimiter=',', dtype=bg.dt_boltload)"
   ]
  },
  {
   "cell_type": "code",
   "execution_count": 7,
   "id": "ed06b0aa",
   "metadata": {
    "collapsed": false,
    "jupyter": {
     "outputs_hidden": false
    }
   },
   "outputs": [],
   "source": [
    "load_descr = \"Load Loop 37, GFEM d110609, GPFORCE @ node <x>, from bar element <y>\"\n",
    "\n",
    "loads = [(1, 40000., 0., 0., 'Case 1'),\n",
    "         (2, 0., 30000., 0., 'Case 2'),\n",
    "         (4, -5000., 10000., 100000., 'Case 4'),\n",
    "         (3, 0., 0., 200000., 'Case 3')]\n",
    "\n",
    "# loads = np.loadtxt('boltgroup_loads.txt', delimiter=',', dtype=bg.dt_boltload)"
   ]
  },
  {
   "cell_type": "raw",
   "id": "89afa8bb",
   "metadata": {},
   "source": [
    "Analysis - don't touch!"
   ]
  },
  {
   "cell_type": "code",
   "execution_count": 8,
   "id": "26446266-8fbe-461b-b93f-a143099a5278",
   "metadata": {},
   "outputs": [],
   "source": [
    "#arr_bolts = np.array(bolts, dtype=bg.dt_bolt)\n",
    "#arr_loads = np.array(loads, dtype=bg.dt_boltload)\n",
    "bgroup = bg.BoltGroup2D(bolts, lap, label=geo_descr)\n",
    "r = bgroup.analyse(loads, label=load_descr)"
   ]
  },
  {
   "cell_type": "code",
   "execution_count": 9,
   "id": "200e28d5",
   "metadata": {
    "collapsed": false,
    "jupyter": {
     "outputs_hidden": false
    }
   },
   "outputs": [
    {
     "data": {
      "text/html": [
       "<h4>BoltGroup2D Results</h4>Object: <unknown aircraft>, Wing/Fuselage Joint, Dwg. 57-123456 issue 1<br>Calculation: Load Loop 37, GFEM d110609, GPFORCE @ node <x>, from bar element <y>"
      ],
      "text/plain": [
       "<boltgroup2d.BoltGroup2DResultObject at 0x189291fc3d0>"
      ]
     },
     "execution_count": 9,
     "metadata": {},
     "output_type": "execute_result"
    }
   ],
   "source": []
  },
  {
   "cell_type": "markdown",
   "id": "cad49d4b",
   "metadata": {},
   "source": [
    "## Analysis Definition"
   ]
  },
  {
   "cell_type": "code",
   "execution_count": 11,
   "id": "b0d3f877",
   "metadata": {
    "collapsed": false,
    "jupyter": {
     "outputs_hidden": false
    }
   },
   "outputs": [
    {
     "name": "stdout",
     "output_type": "stream",
     "text": [
      "\n",
      "Bolt group definition\n",
      "<unknown aircraft>, Wing/Fuselage Joint, Dwg. 57-123456 issue 1\n",
      "\n",
      "    boltid          x          y     Fallow descrp              \n",
      "---------- ---------- ---------- ---------- --------------------\n",
      "        B1       0.00       0.00    10000.0 EN6114-5, allowables from xxxx\n",
      "        B2      25.00      25.00    10000.0 EN6114-5            \n",
      "        B3      50.00      50.00    20000.0 EN6114-5            \n",
      "        B4       0.00       0.00    10000.0 EN6114-5            \n",
      "        B5      25.00      25.00    10000.0 EN6114-5            \n",
      "        B6      50.00      50.00    10000.0 EN6114-5            \n",
      "\n",
      "\n",
      "Bolt group properties\n",
      "\n",
      "CG S:  (28.57, 5.71)\n",
      "LAP U: (55.00, 2.00)\n"
     ]
    },
    {
     "data": {
      "image/png": "[encoded data removed]",
      "text/plain": [
       "<Figure size 640x480 with 1 Axes>"
      ]
     },
     "metadata": {},
     "output_type": "display_data"
    }
   ],
   "source": [
    "# three lowest RFs\n",
    "# should include allowable load\n",
    "# print 'Number of results: ', len(r)\n",
    "r.plot_geometry()\n",
    "\n",
    "# bolt definition summary\n",
    "print('\\nBolt group definition')\n",
    "print(bgroup.label)\n",
    "b = np.sort(r.bolts, order='boltid')\n",
    "print(bg.geo2string(b))\n",
    "\n",
    "# bolt group properties\n",
    "print('\\nBolt group properties\\n')\n",
    "print('CG S:  ({0[0]:.2f}, {0[1]:.2f})'.format(r.cg))\n",
    "print('LAP U: ({0[0]:.2f}, {0[1]:.2f})'.format(r.lap))\n",
    "\n",
    "\n"
   ]
  },
  {
   "cell_type": "markdown",
   "id": "f437df26",
   "metadata": {},
   "source": [
    "## Results"
   ]
  },
  {
   "cell_type": "code",
   "execution_count": 12,
   "id": "43c9c4f5",
   "metadata": {
    "collapsed": false,
    "jupyter": {
     "outputs_hidden": false
    }
   },
   "outputs": [
    {
     "name": "stdout",
     "output_type": "stream",
     "text": [
      "\n",
      "Applied Loads\n",
      "Load Loop 37, GFEM d110609, GPFORCE @ node <x>, from bar element <y>\n",
      "\n",
      "      lcid         Fx         Fy       Mz,u descrp              \n",
      "---------- ---------- ---------- ---------- --------------------\n",
      "         1    40000.0        0.0        0.0 Case 1              \n",
      "         2        0.0    30000.0        0.0 Case 2              \n",
      "         3        0.0        0.0   200000.0 Case 3              \n",
      "         4    -5000.0    10000.0   100000.0 Case 4              \n",
      "\n",
      "\n",
      "3 lowest reserve factors\n",
      "\n",
      "    boltid     Fallow       lcid         Fx         Fy          F         RF\n",
      "---------- ---------- ---------- ---------- ---------- ---------- ----------\n",
      "        B6    10000.0          2    -3573.4     6519.1     7434.3       1.35\n",
      "        B4    10000.0          1     6607.1     -558.0     6630.6       1.51\n",
      "        B3    20000.0          2     1191.1    13038.2    13092.5       1.53\n",
      "\n",
      "\n",
      "Lowest reserve factors, per bolt\n"
     ]
    }
   ],
   "source": [
    "# loading\n",
    "print('\\nApplied Loads')\n",
    "print(r.label)\n",
    "sl = np.sort(r.applied_loads, order='lcid')\n",
    "print(bg.lcase2string(sl))\n",
    "\n",
    "# lowest overall RFs\n",
    "m3 = r.lowest_rfs(n=3)\n",
    "print('\\n3 lowest reserve factors')\n",
    "print(bg.result2string(m3))\n",
    "\n",
    "# 3 most critical load cases\n",
    "\n",
    "\n",
    "# lowest RF per bolt\n",
    "print('\\nLowest reserve factors, per bolt')"
   ]
  },
  {
   "cell_type": "code",
   "execution_count": 13,
   "id": "ef56dad9",
   "metadata": {
    "collapsed": false,
    "jupyter": {
     "outputs_hidden": false
    }
   },
   "outputs": [
    {
     "data": {
      "text/plain": [
       "<Axes: title={'center': 'Bolt Forces, Case 2'}, xlabel='x', ylabel='y'>"
      ]
     },
     "execution_count": 13,
     "metadata": {},
     "output_type": "execute_result"
    },
    {
     "data": {
      "image/png": "[encoded data removed]",
      "text/plain": [
       "<Figure size 640x480 with 1 Axes>"
      ]
     },
     "metadata": {},
     "output_type": "display_data"
    }
   ],
   "source": [
    "r.plot_forces(2)"
   ]
  },
  {
   "cell_type": "code",
   "execution_count": 14,
   "id": "7cd52ccc",
   "metadata": {
    "collapsed": false,
    "jupyter": {
     "outputs_hidden": false
    }
   },
   "outputs": [
    {
     "data": {
      "text/plain": [
       "<Axes: title={'center': 'Bolt Forces, Case 1'}, xlabel='x', ylabel='y'>"
      ]
     },
     "execution_count": 14,
     "metadata": {},
     "output_type": "execute_result"
    },
    {
     "data": {
      "image/png": "[encoded data removed]",
      "text/plain": [
       "<Figure size 640x480 with 1 Axes>"
      ]
     },
     "metadata": {},
     "output_type": "display_data"
    }
   ],
   "source": [
    "r.plot_forces(1)"
   ]
  },
  {
   "cell_type": "markdown",
   "id": "2ecc5337",
   "metadata": {},
   "source": [
    "## All Results"
   ]
  },
  {
   "cell_type": "code",
   "execution_count": 15,
   "id": "e895eeef",
   "metadata": {
    "collapsed": false,
    "jupyter": {
     "outputs_hidden": false
    }
   },
   "outputs": [
    {
     "name": "stdout",
     "output_type": "stream",
     "text": [
      "\n",
      "    boltid     Fallow       lcid         Fx         Fy          F         RF\n",
      "---------- ---------- ---------- ---------- ---------- ---------- ----------\n",
      "        B1    10000.0          1     5825.9     -558.0     5852.6       1.71\n",
      "        B1    10000.0          2      595.6     1307.8     1437.1       6.96\n",
      "        B1    10000.0          4     -454.6      130.1      472.8      21.15\n",
      "        B1    10000.0          3      150.2     -751.2      766.0      13.05\n",
      "        B2    10000.0          1     5825.9      -69.8     5826.3       1.72\n",
      "        B2    10000.0          2      595.6     3913.5     3958.5       2.53\n",
      "        B2    10000.0          4     -454.6     1266.3     1345.4       7.43\n",
      "        B2    10000.0          3      150.2      -93.9      177.2      56.44\n",
      "        B3    20000.0          1    11651.8      837.0    11681.8       1.71\n",
      "        B3    20000.0          2     1191.1    13038.2    13092.5       1.53\n",
      "        B3    20000.0          4     -909.2     4804.8     4890.1       4.09\n",
      "        B3    20000.0          3      300.5     1126.8     1166.1      17.15\n",
      "        B4    10000.0          1     6607.1     -558.0     6630.6       1.51\n",
      "        B4    10000.0          2     4764.6     1307.8     4940.8       2.02\n",
      "        B4    10000.0          4     1363.2      130.1     1369.4       7.30\n",
      "        B4    10000.0          3     1201.9     -751.2     1417.3       7.06\n",
      "        B5    10000.0          1     5044.7      -69.8     5045.2       1.98\n",
      "        B5    10000.0          2    -3573.4     3913.5     5299.5       1.89\n",
      "        B5    10000.0          4    -2272.4     1266.3     2601.4       3.84\n",
      "        B5    10000.0          3     -901.4      -93.9      906.3      11.03\n",
      "        B6    10000.0          1     5044.7      418.5     5062.0       1.98\n",
      "        B6    10000.0          2    -3573.4     6519.1     7434.3       1.35\n",
      "        B6    10000.0          4    -2272.4     2402.4     3306.9       3.02\n",
      "        B6    10000.0          3     -901.4      563.4     1063.0       9.41\n",
      "\n"
     ]
    }
   ],
   "source": [
    "# all results\n",
    "print(bg.result2string(r.results))"
   ]
  },
  {
   "cell_type": "code",
   "execution_count": 25,
   "id": "4a5ce92a",
   "metadata": {
    "collapsed": false,
    "jupyter": {
     "outputs_hidden": false
    }
   },
   "outputs": [],
   "source": []
  }
 ],
 "metadata": {
  "kernelspec": {
   "display_name": "Python 3 (ipykernel)",
   "language": "python",
   "name": "python3"
  },
  "language_info": {
   "codemirror_mode": {
    "name": "ipython",
    "version": 3
   },
   "file_extension": ".py",
   "mimetype": "text/x-python",
   "name": "python",
   "nbconvert_exporter": "python",
   "pygments_lexer": "ipython3",
   "version": "3.11.6"
  }
 },
 "nbformat": 4,
 "nbformat_minor": 5
}
